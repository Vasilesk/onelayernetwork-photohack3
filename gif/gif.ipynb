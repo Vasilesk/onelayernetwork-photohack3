{
 "cells": [
  {
   "cell_type": "code",
   "execution_count": 168,
   "metadata": {},
   "outputs": [],
   "source": [
    "import cv2\n",
    "import matplotlib.pyplot as plt\n",
    "import numpy as np\n",
    "import imageio"
   ]
  },
  {
   "cell_type": "code",
   "execution_count": 169,
   "metadata": {},
   "outputs": [],
   "source": [
    "def plot_picture(pic):\n",
    "    #fig=plt.figure(figsize=(size,size))\n",
    "    plt.imshow(pic)\n",
    "    plt.show()"
   ]
  },
  {
   "cell_type": "code",
   "execution_count": 170,
   "metadata": {},
   "outputs": [],
   "source": [
    "w = 1000\n",
    "h = 600\n",
    "background = np.zeros((h,w,3), dtype='uint8')\n",
    "background = cv2.imread('forest.jpg')"
   ]
  },
  {
   "cell_type": "code",
   "execution_count": 171,
   "metadata": {},
   "outputs": [],
   "source": [
    "lover_1 = cv2.imread('3.jpg')\n",
    "lover_2 = cv2.imread('4.jpg')\n",
    "mask_1 = cv2.imread('mask3.jpg')\n",
    "mask_2 = cv2.imread('mask4.jpg')\n",
    "mask_1 = cv2.threshold(mask_1,127,255,cv2.THRESH_BINARY)[1]\n",
    "mask_2 = cv2.threshold(mask_2,127,255,cv2.THRESH_BINARY)[1]"
   ]
  },
  {
   "cell_type": "code",
   "execution_count": 172,
   "metadata": {},
   "outputs": [],
   "source": [
    "def paste_img(background, img, mask):\n",
    "    h, w, _ = background.shape\n",
    "    overlay = background.copy()\n",
    "    \n",
    "    fx = h / img.shape[0]\n",
    "    img = cv2.resize(img.copy(), (0,0), fx = fx, fy = fx)\n",
    "    mask = cv2.resize(mask.copy(), (0,0), fx = fx, fy = fx)\n",
    "    h1, w1, _ = img.shape\n",
    "    \n",
    "    x1 = min(max(w // 2 - w1//2, 0), w)\n",
    "    x2 = min(max(x1 + w1,0), w)\n",
    "    \n",
    "    ind = mask != 0\n",
    "    overlay[:,x1:x2][ind] = img[ind]\n",
    "    \n",
    "    \n",
    "    return overlay"
   ]
  },
  {
   "cell_type": "code",
   "execution_count": 173,
   "metadata": {},
   "outputs": [],
   "source": [
    "def overlay_image(background, lover_1, lover_2, mask_1, mask_2, dist_c = 100):\n",
    "    h, w, _ = background.shape\n",
    "    overlay = background.copy()\n",
    "    \n",
    "    h_0 = int(h*1)\n",
    "    y = int(h*0.5)    \n",
    "    \n",
    "    fx = h_0 / lover_1.shape[0]\n",
    "    lover_1 = cv2.resize(lover_1.copy(), (0,0), fx = fx, fy = fx)\n",
    "    mask_1 = cv2.resize(mask_1.copy(), (0,0), fx = fx, fy = fx)\n",
    "    h1, w1, _ = lover_1.shape\n",
    "    \n",
    "    fx =  h_0 / lover_2.shape[0]\n",
    "    lover_2 = cv2.resize(lover_2.copy(), (0,0), fx = fx, fy = fx)\n",
    "    mask_2 = cv2.resize(mask_2.copy(), (0,0), fx = fx, fy = fx)\n",
    "    h2, w2, _ = lover_2.shape    \n",
    "    \n",
    "    point_1 = (int(w1*0.5),int(h1*0.5))\n",
    "    point_2 = (int(w2*0.5),int(h2*0.5))\n",
    "    \n",
    "    \n",
    "    x2 = min(max(w // 2 - dist_c + (w1 - point_1[0]),0), w)\n",
    "    x1 = min(max(x2 - w1,0), w)\n",
    "    y1 = min(max(y - point_1[1],0), h)\n",
    "    y1_0 = max(point_1[1] - y, 0)\n",
    "    y2 = min(max(y1 + h1 - y1_0,0),h)\n",
    "    y2_0 = min(max(y1_0 + y2 - y1,0),h1)\n",
    "    ind = mask_1[y1_0:y2_0,-(x2-x1):] != 0\n",
    "    overlay[y1:y2,x1:x2][ind] = lover_1[y1_0:y2_0,-(x2-x1):][ind]\n",
    "    \n",
    "    \n",
    "    x1 = min(max(w // 2 + dist_c - (w2 - point_2[0]),0), w)\n",
    "    x2 = min(max(x1 + w2,0), w)\n",
    "    y1 = min(max(y - point_2[1],0), h)\n",
    "    y1_0 = max(point_2[1] - y, 0)\n",
    "    y2 = min(max(y1 + h2 - y1_0,0),h)\n",
    "    y2_0 =  min(max(y1_0 + y2 - y1,0),h2)\n",
    "    ind = mask_2[y1_0:y2_0,:(x2-x1)] != 0\n",
    "    overlay[y1:y2,x1:x2][ind] = lover_2[y1_0:y2_0,:(x2-x1)][ind]\n",
    "    \n",
    "    \n",
    "    return overlay"
   ]
  },
  {
   "cell_type": "code",
   "execution_count": 174,
   "metadata": {},
   "outputs": [],
   "source": [
    "images = []\n",
    "n_steps = 15\n",
    "\n",
    "white = np.full(background.shape, 255).astype(np.uint8)\n",
    "\n",
    "dists = (np.logspace(2, 3, num=n_steps)/1000 * w//2 + 200).astype(int) [::-1]\n",
    "\n",
    "\n",
    "for i in range(n_steps):       \n",
    "    img = overlay_image(background, lover_1, lover_2, mask_1, mask_2, dists[i])\n",
    "    if i>7:\n",
    "        alpha = 1 - (i - 7)/8 \n",
    "        img = cv2.addWeighted(img, alpha, white, 1 - alpha, 0)\n",
    "    \n",
    "    images.append(cv2.cvtColor(img, cv2.COLOR_BGR2RGB)) \n",
    "    \n",
    "\n",
    "white = np.full(background.shape, 255).astype(np.uint8)\n",
    "images.append(cv2.addWeighted(images[-1], 0.5, white, 0.5, 0))\n",
    "images.append(cv2.addWeighted(images[-1], 0.5, white, 0.5, 0))\n",
    "images.append(cv2.addWeighted(images[-1], 0.5, white, 0.5, 0))\n",
    "images.append(cv2.addWeighted(images[-1], 0.5, white, 0.5, 0))\n",
    "\n",
    "img = paste_img(white, lover_2, mask_2)\n",
    "images.append(cv2.cvtColor(img, cv2.COLOR_BGR2RGB))\n",
    "images.append(cv2.cvtColor(img, cv2.COLOR_BGR2RGB))\n",
    "images.append(cv2.cvtColor(img, cv2.COLOR_BGR2RGB))"
   ]
  },
  {
   "cell_type": "code",
   "execution_count": 175,
   "metadata": {},
   "outputs": [],
   "source": [
    "imageio.mimsave('1.gif', images, format='GIF')"
   ]
  },
  {
   "cell_type": "code",
   "execution_count": null,
   "metadata": {},
   "outputs": [],
   "source": []
  },
  {
   "cell_type": "code",
   "execution_count": null,
   "metadata": {},
   "outputs": [],
   "source": []
  }
 ],
 "metadata": {
  "kernelspec": {
   "display_name": "Python 3",
   "language": "python",
   "name": "python3"
  },
  "language_info": {
   "codemirror_mode": {
    "name": "ipython",
    "version": 3
   },
   "file_extension": ".py",
   "mimetype": "text/x-python",
   "name": "python",
   "nbconvert_exporter": "python",
   "pygments_lexer": "ipython3",
   "version": "3.6.5"
  }
 },
 "nbformat": 4,
 "nbformat_minor": 2
}
