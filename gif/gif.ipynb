{
 "cells": [
  {
   "cell_type": "code",
   "execution_count": 831,
   "metadata": {},
   "outputs": [],
   "source": [
    "import cv2\n",
    "import matplotlib.pyplot as plt\n",
    "import numpy as np\n",
    "import imageio"
   ]
  },
  {
   "cell_type": "code",
   "execution_count": 832,
   "metadata": {},
   "outputs": [],
   "source": [
    "def plot_picture(pic):\n",
    "    #fig=plt.figure(figsize=(size,size))\n",
    "    plt.imshow(pic)\n",
    "    plt.show()"
   ]
  },
  {
   "cell_type": "code",
   "execution_count": 833,
   "metadata": {},
   "outputs": [],
   "source": [
    "w = 1000\n",
    "h = 600\n",
    "background = np.zeros((h,w,3), dtype='uint8')"
   ]
  },
  {
   "cell_type": "code",
   "execution_count": 834,
   "metadata": {},
   "outputs": [],
   "source": [
    "def rotateAndScale(img, scaleFactor = 0.5, degreesCCW = 30):\n",
    "    (oldY,oldX) = img.shape[:-1] #note: numpy uses (y,x) convention but most OpenCV functions use (x,y)\n",
    "    M = cv2.getRotationMatrix2D(center=(oldX/2,oldY/2), angle=degreesCCW, scale=scaleFactor) #rotate about center of image.\n",
    "\n",
    "    #choose a new image size.\n",
    "    newX,newY = oldX*scaleFactor,oldY*scaleFactor\n",
    "    #include this if you want to prevent corners being cut off\n",
    "    r = np.deg2rad(degreesCCW)\n",
    "    newX,newY = (abs(np.sin(r)*newY) + abs(np.cos(r)*newX),abs(np.sin(r)*newX) + abs(np.cos(r)*newY))\n",
    "\n",
    "    #the warpAffine function call, below, basically works like this:\n",
    "    # 1. apply the M transformation on each pixel of the original image\n",
    "    # 2. save everything that falls within the upper-left \"dsize\" portion of the resulting image.\n",
    "\n",
    "    #So I will find the translation that moves the result to the center of that region.\n",
    "    (tx,ty) = ((newX-oldX)/2,(newY-oldY)/2)\n",
    "    M[0,2] += tx #third column of matrix holds translation, which takes effect after rotation.\n",
    "    M[1,2] += ty\n",
    "\n",
    "    rotatedImg = cv2.warpAffine(img, M, dsize=(int(newX),int(newY)))\n",
    "    return rotatedImg\n"
   ]
  },
  {
   "cell_type": "code",
   "execution_count": 835,
   "metadata": {},
   "outputs": [],
   "source": [
    "lover_2 = cv2.imread('1.png')\n",
    "lover_1 = cv2.flip(cv2.imread('2.png'),1)\n",
    "\n",
    "heart = cv2.imread('heart.png', -1)"
   ]
  },
  {
   "cell_type": "code",
   "execution_count": 836,
   "metadata": {},
   "outputs": [],
   "source": [
    "def paste_png(img, png, x, y, size):\n",
    "    s_img = png.copy()\n",
    "    l_img = img.copy()\n",
    "\n",
    "    fx = size / s_img.shape[0]\n",
    "    s_img = cv2.resize(s_img, (0,0), fx = fx, fy = fx)\n",
    "\n",
    "    x1 = x - s_img.shape[1] // 2\n",
    "    x2 = x1 + s_img.shape[1]\n",
    "    y1 = y - s_img.shape[0] // 2\n",
    "    y2 = y1 + s_img.shape[0]\n",
    "\n",
    "    alpha_s = s_img[:, :, 3] / 255.0\n",
    "    alpha_l = 1.0 - alpha_s\n",
    "\n",
    "    for c in range(0, 3):\n",
    "        l_img[y1:y2, x1:x2, c] = (alpha_s * s_img[:, :, c] +\n",
    "                                  alpha_l * l_img[y1:y2, x1:x2, c])\n",
    "    return l_img"
   ]
  },
  {
   "cell_type": "code",
   "execution_count": 837,
   "metadata": {},
   "outputs": [],
   "source": [
    "def overlay_image(background, lover_1, lover_2, dist_c = 100):\n",
    "    h, w, _ = background.shape\n",
    "    overlay = background.copy()\n",
    "    \n",
    "    h_0 = int(h*1)\n",
    "    y = int(h*0.6)    \n",
    "    \n",
    "    fx = h_0 / lover_1.shape[0]\n",
    "    lover_1 = cv2.resize(lover_1.copy(), (0,0), fx = fx, fy = fx)\n",
    "    h1, w1, _ = lover_1.shape\n",
    "    \n",
    "    fx =  h_0 / lover_2.shape[0]\n",
    "    lover_2 = cv2.resize(lover_2.copy(), (0,0), fx = fx, fy = fx)\n",
    "    h2, w2, _ = lover_2.shape    \n",
    "    \n",
    "    point_1 = (int(w1*0.5),int(h1*0.5))\n",
    "    point_2 = (int(w2*0.5),int(h2*0.4))\n",
    "    \n",
    "    \n",
    "    x2 = min(max(w // 2 - dist_c + (w1 - point_1[0]),0), w)\n",
    "    x1 = min(max(x2 - w1,0), w)\n",
    "    y1 = min(max(y - point_1[1],0), h)\n",
    "    y1_0 = max(point_1[1] - y, 0)\n",
    "    y2 = min(max(y1 + h1 - y1_0,0),h)\n",
    "    y2_0 = min(max(y1_0 + y2 - y1,0),h1)\n",
    "    ind = lover_1[y1_0:y2_0,-(x2-x1):] != 0\n",
    "    overlay[y1:y2,x1:x2][ind] = lover_1[y1_0:y2_0,-(x2-x1):][ind]\n",
    "    \n",
    "    x1 = min(max(w // 2 + dist_c - (w2 - point_2[0]),0), w)\n",
    "    x2 = min(max(x1 + w2,0), w)\n",
    "    y1 = min(max(y - point_2[1],0), h)\n",
    "    y1_0 = max(point_2[1] - y, 0)\n",
    "    y2 = min(max(y1 + h2 - y1_0,0),h)\n",
    "    y2_0 =  min(max(y1_0 + y2 - y1,0),h2)\n",
    "    ind = lover_2[y1_0:y2_0,:(x2-x1)] != 0\n",
    "    overlay[y1:y2,x1:x2][ind] = lover_2[y1_0:y2_0,:(x2-x1)][ind]\n",
    "    \n",
    "    \n",
    "    return overlay\n"
   ]
  },
  {
   "cell_type": "code",
   "execution_count": 839,
   "metadata": {},
   "outputs": [],
   "source": [
    "images = []\n",
    "n_steps = 15\n",
    "dists = (np.logspace(2, 3, num=n_steps)/1000 * w//2 + 100).astype(int) [::-1]\n",
    "eye_heart_sizes = (np.logspace(1, 2, num=5)).astype(int)\n",
    "big_heart_sizes = (np.logspace(1, 3, num=7) / 2).astype(int)\n",
    "\n",
    "for i in range(n_steps):    \n",
    "#    if i > 4:\n",
    " #       lover_1 = paste_png(lover_1, heart, lover_1.shape[1]//2, int(lover_1.shape[0] * 0.3), eye_heart_sizes[i - 5])\n",
    "    \n",
    "    img = overlay_image(background, lover_1, lover_2, dists[i])\n",
    "    \n",
    "  #  if i > 2:\n",
    "   #     img = paste_png(img, heart, img.shape[1]//2, img.shape[0]//2,big_heart_sizes[i - 3])\n",
    "    images.append(cv2.cvtColor(img, cv2.COLOR_BGR2RGB)) \n",
    "    \n",
    "#img = np.full(background.shape, 255)\n",
    "white = np.full(background.shape, 255).astype(np.uint8)\n",
    "images.append(cv2.addWeighted(images[-1], 0.5, white, 0.5, 0))\n",
    "images.append(cv2.addWeighted(images[-1], 0.5, white, 0.5, 0))\n",
    "images.append(cv2.addWeighted(images[-1], 0.5, white, 0.5, 0))\n",
    "images.append(cv2.addWeighted(images[-1], 0.5, white, 0.5, 0))\n",
    "\n",
    "img = paste_png(white, cv2.imread('1.png',-1), w//2, h//2, 500)\n",
    "images.append(cv2.cvtColor(img, cv2.COLOR_BGR2RGB))\n",
    "images.append(cv2.cvtColor(img, cv2.COLOR_BGR2RGB))\n",
    "images.append(cv2.cvtColor(img, cv2.COLOR_BGR2RGB))"
   ]
  },
  {
   "cell_type": "code",
   "execution_count": 840,
   "metadata": {},
   "outputs": [],
   "source": [
    "imageio.mimsave('1.gif', images, format='GIF')"
   ]
  },
  {
   "cell_type": "code",
   "execution_count": null,
   "metadata": {},
   "outputs": [],
   "source": []
  }
 ],
 "metadata": {
  "kernelspec": {
   "display_name": "Python 3",
   "language": "python",
   "name": "python3"
  },
  "language_info": {
   "codemirror_mode": {
    "name": "ipython",
    "version": 3
   },
   "file_extension": ".py",
   "mimetype": "text/x-python",
   "name": "python",
   "nbconvert_exporter": "python",
   "pygments_lexer": "ipython3",
   "version": "3.6.5"
  }
 },
 "nbformat": 4,
 "nbformat_minor": 2
}
