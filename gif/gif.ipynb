{
 "cells": [
  {
   "cell_type": "code",
   "execution_count": 560,
   "metadata": {},
   "outputs": [],
   "source": [
    "import cv2\n",
    "import matplotlib.pyplot as plt\n",
    "import numpy as np\n",
    "import imageio"
   ]
  },
  {
   "cell_type": "code",
   "execution_count": 561,
   "metadata": {},
   "outputs": [],
   "source": [
    "def plot_picture(pic):\n",
    "    #fig=plt.figure(figsize=(size,size))\n",
    "    plt.imshow(pic)\n",
    "    plt.show()"
   ]
  },
  {
   "cell_type": "code",
   "execution_count": 562,
   "metadata": {},
   "outputs": [],
   "source": [
    "w = 1000\n",
    "h = 600\n",
    "background = np.zeros((h,w,3), dtype='uint8')"
   ]
  },
  {
   "cell_type": "code",
   "execution_count": 563,
   "metadata": {},
   "outputs": [],
   "source": [
    "def rotateAndScale(img, scaleFactor = 0.5, degreesCCW = 30):\n",
    "    (oldY,oldX) = img.shape[:-1] #note: numpy uses (y,x) convention but most OpenCV functions use (x,y)\n",
    "    M = cv2.getRotationMatrix2D(center=(oldX/2,oldY/2), angle=degreesCCW, scale=scaleFactor) #rotate about center of image.\n",
    "\n",
    "    #choose a new image size.\n",
    "    newX,newY = oldX*scaleFactor,oldY*scaleFactor\n",
    "    #include this if you want to prevent corners being cut off\n",
    "    r = np.deg2rad(degreesCCW)\n",
    "    newX,newY = (abs(np.sin(r)*newY) + abs(np.cos(r)*newX),abs(np.sin(r)*newX) + abs(np.cos(r)*newY))\n",
    "\n",
    "    #the warpAffine function call, below, basically works like this:\n",
    "    # 1. apply the M transformation on each pixel of the original image\n",
    "    # 2. save everything that falls within the upper-left \"dsize\" portion of the resulting image.\n",
    "\n",
    "    #So I will find the translation that moves the result to the center of that region.\n",
    "    (tx,ty) = ((newX-oldX)/2,(newY-oldY)/2)\n",
    "    M[0,2] += tx #third column of matrix holds translation, which takes effect after rotation.\n",
    "    M[1,2] += ty\n",
    "\n",
    "    rotatedImg = cv2.warpAffine(img, M, dsize=(int(newX),int(newY)))\n",
    "    return rotatedImg\n"
   ]
  },
  {
   "cell_type": "code",
   "execution_count": 564,
   "metadata": {},
   "outputs": [],
   "source": [
    "lover_2 = cv2.imread('1.png')\n",
    "lover_1 = cv2.flip(cv2.imread('2.png'),1)\n",
    "\n",
    "heart = cv2.resize(cv2.imread('heart.jpeg'), (w,h))"
   ]
  },
  {
   "cell_type": "code",
   "execution_count": 565,
   "metadata": {},
   "outputs": [],
   "source": [
    "def overlay_image(background, lover_1, lover_2, dist_c = 100):\n",
    "    h, w, _ = background.shape\n",
    "    overlay = background.copy()\n",
    "    \n",
    "    h_0 = int(h*0.9)\n",
    "    y = int(h*0.1)\n",
    "    \n",
    "    fx = h_0 / lover_1.shape[0]\n",
    "    lover_1 = cv2.resize(lover_1, (0,0), fx = fx, fy = fx)\n",
    "    h1, w1, _ = lover_1.shape\n",
    "    x2 = w // 2 - dist_c\n",
    "    y1 = y\n",
    "    h1 = min(h1, h - y1)\n",
    "    w1 = min(w1, x2)\n",
    "    ind = lover_1[:h1,-w1:] != 0\n",
    "    overlay[y1:y1 + h1, x2 - w1:x2][ind] = lover_1[:h1,-w1:][ind]\n",
    "    \n",
    "    fx =  h_0 / lover_2.shape[0]\n",
    "    lover_2 = cv2.resize(lover_2, (0,0), fx = fx, fy = fx)\n",
    "    h1, w1, _ = lover_2.shape\n",
    "    x1 = w // 2 + dist_c\n",
    "    y1 = y\n",
    "    h1 = min(h1, h - y1)\n",
    "    w1 = min(w1, w - x1)\n",
    "    ind = lover_2[:h1,:w1] != 0\n",
    "    overlay[y1:y1 + h1, x1:x1 + w1][ind] = lover_2[:h1,:w1][ind]\n",
    "    return overlay\n",
    "  #  plot_picture(overlay)"
   ]
  },
  {
   "cell_type": "code",
   "execution_count": 566,
   "metadata": {},
   "outputs": [],
   "source": [
    "def overlay_image(background, lover_1, lover_2, dist_c = 100):\n",
    "    h, w, _ = background.shape\n",
    "    overlay = background.copy()\n",
    "    \n",
    "    h_0 = int(h*1)\n",
    "    y = int(h*0.6)    \n",
    "    \n",
    "    fx = h_0 / lover_1.shape[0]\n",
    "    lover_1 = cv2.resize(lover_1.copy(), (0,0), fx = fx, fy = fx)\n",
    "    h1, w1, _ = lover_1.shape\n",
    "    \n",
    "    fx =  h_0 / lover_2.shape[0]\n",
    "    lover_2 = cv2.resize(lover_2.copy(), (0,0), fx = fx, fy = fx)\n",
    "    h2, w2, _ = lover_2.shape    \n",
    "    \n",
    "    point_1 = (int(w1*0.5),int(h1*0.5))\n",
    "    point_2 = (int(w2*0.5),int(h2*0.4))\n",
    "    \n",
    "    \n",
    "    x2 = min(max(w // 2 - dist_c + (w1 - point_1[0]),0), w)\n",
    "    x1 = min(max(x2 - w1,0), w)\n",
    "    y1 = min(max(y - point_1[1],0), h)\n",
    "    y1_0 = max(point_1[1] - y, 0)\n",
    "    y2 = min(max(y1 + h1 - y1_0,0),h)\n",
    "    y2_0 = min(max(y1_0 + y2 - y1,0),h1)\n",
    "    ind = lover_1[y1_0:y2_0,-(x2-x1):] != 0\n",
    "    overlay[y1:y2,x1:x2][ind] = lover_1[y1_0:y2_0,-(x2-x1):][ind]\n",
    "    \n",
    "    x1 = min(max(w // 2 + dist_c - (w2 - point_2[0]),0), w)\n",
    "    x2 = min(max(x1 + w2,0), w)\n",
    "    y1 = min(max(y - point_2[1],0), h)\n",
    "    y1_0 = max(point_2[1] - y, 0)\n",
    "    y2 = min(max(y1 + h2 - y1_0,0),h)\n",
    "    y2_0 =  min(max(y1_0 + y2 - y1,0),h2)\n",
    "    ind = lover_2[y1_0:y2_0,:(x2-x1)] != 0\n",
    "    overlay[y1:y2,x1:x2][ind] = lover_2[y1_0:y2_0,:(x2-x1)][ind]\n",
    "    \n",
    "    \n",
    "    return overlay\n"
   ]
  },
  {
   "cell_type": "code",
   "execution_count": 567,
   "metadata": {},
   "outputs": [],
   "source": [
    "images = []\n",
    "dist_c = int(w//2 * 0.9)\n",
    "for i in range(10):\n",
    "    dist_c = int(dist_c - 50 * (10-i)/10)\n",
    "    img = overlay_image(background, lover_1, lover_2, dist_c)\n",
    "    if dist_c < 200:\n",
    "        ind = heart != 0\n",
    "        img[ind] = heart[ind]\n",
    "    images.append(cv2.cvtColor(img, cv2.COLOR_BGR2RGB))   "
   ]
  },
  {
   "cell_type": "code",
   "execution_count": 568,
   "metadata": {},
   "outputs": [],
   "source": [
    "imageio.mimsave('1.gif', images, format='GIF')"
   ]
  },
  {
   "cell_type": "code",
   "execution_count": null,
   "metadata": {},
   "outputs": [],
   "source": []
  },
  {
   "cell_type": "code",
   "execution_count": null,
   "metadata": {},
   "outputs": [],
   "source": []
  }
 ],
 "metadata": {
  "kernelspec": {
   "display_name": "Python 3",
   "language": "python",
   "name": "python3"
  },
  "language_info": {
   "codemirror_mode": {
    "name": "ipython",
    "version": 3
   },
   "file_extension": ".py",
   "mimetype": "text/x-python",
   "name": "python",
   "nbconvert_exporter": "python",
   "pygments_lexer": "ipython3",
   "version": "3.6.5"
  }
 },
 "nbformat": 4,
 "nbformat_minor": 2
}
